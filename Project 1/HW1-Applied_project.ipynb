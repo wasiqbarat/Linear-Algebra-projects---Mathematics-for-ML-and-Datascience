{
 "cells": [
  {
   "cell_type": "markdown",
   "metadata": {},
   "source": [
    "# Linear Algebra Project 1:\n",
    "- Difference Equations\n",
    "- Row-Reduction Algorithm\n",
    "\n",
    "By the end of this project, you will be able to:\n",
    "- Use numpy to implement basic linear algebra operations\n",
    "- Solve linear difference equations\n",
    "- Solve linear equations with the row reduction method\n",
    "- Apply the above knowledge to solve real-world problems"
   ]
  },
  {
   "cell_type": "markdown",
   "metadata": {},
   "source": [
    "Please fill in the following information:\n",
    "\n",
    "- Student: [Your name]\n",
    "- Student ID: [Your student ID]"
   ]
  },
  {
   "cell_type": "markdown",
   "metadata": {},
   "source": [
    "# Note\n",
    " - The following cells are only for your reference. Feel free to add more cells if you need to\n",
    " - It is highly recommended to divide the project into several parts and implement in different cells\n",
    " - You have to implement the algorithms by yourself not using any existing libraries."
   ]
  },
  {
   "cell_type": "markdown",
   "metadata": {},
   "source": [
    "## 1. Difference equations"
   ]
  },
  {
   "cell_type": "markdown",
   "metadata": {},
   "source": [
    "### 1.1. Apply Transformation Matrix"
   ]
  },
  {
   "cell_type": "code",
   "execution_count": null,
   "metadata": {},
   "outputs": [],
   "source": [
    "def transform(A, x):\n",
    "    \"\"\" Transform x vector using standard matrix A.\"\"\""
   ]
  },
  {
   "cell_type": "markdown",
   "metadata": {},
   "source": [
    "### 1.2. Application: Migration problem\n",
    "A subject of interest to demographers is the movement of populations or groups of people from one region to another.\n",
    "\n",
    "The simple model here considers the changes in the population of a certain city and its surrounding suburbs over a period of years.\n",
    "Fix an initial year-say, 2020-and denote the populations of the city and suburbs that year by ro and so, respectively. \n",
    "\n",
    "Let r0 is the population of the city and s0 is the population of the suburbs, then x0 is the population vector:\n",
    "$$x0=\\begin{bmatrix} r0 \\\\ s0 \\end{bmatrix}$$\n",
    "\n",
    "For 2021 and subsequent years, denote the populations of the city and suburbs by the\n",
    "vectors\n",
    "$$x1=\\begin{bmatrix} r1 \\\\ s1 \\end{bmatrix}, x2=\\begin{bmatrix} r2 \\\\ s2 \\end{bmatrix}, x3=\\begin{bmatrix} r3 \\\\ s3 \\end{bmatrix}$$\n",
    "\n",
    "Our goal is to describe mathematically how these vectors might be related.\n",
    "Suppose demographic studies show that each year about 5% of the city's population moves to the suburbs (and 95 % remains in the city), while 3% of the suburban population moves to the city (and 97% remains in the suburbs).\n",
    "\n",
    "After 1 year, the original r0 persons in the city are now distributed between city and suburbs as \n",
    "$$\\begin{bmatrix} .95r0 \\\\ .05r0 \\end{bmatrix} = r0\\begin{bmatrix} .95 \\\\ .05 \\end{bmatrix}(1)$$\n",
    "\n",
    "The s0 persons in the suburbs in 2020 are distributed 1 year later as\n",
    "$$s0\\begin{bmatrix} .03 \\\\ .97 \\end{bmatrix}(2)$$\n",
    "\n",
    "The vector in (1) and (2) account for all of the population in 2021. Thus\n",
    "$$\\begin{bmatrix} r1 \\\\ s1 \\end{bmatrix} = r0\\begin{bmatrix} .95 \\\\ .05 \\end{bmatrix} + s0\\begin{bmatrix} .03 \\\\ .97 \\end{bmatrix} = \\begin{bmatrix} .95 & .03 \\\\ .05 & .97 \\end{bmatrix} \\begin{bmatrix} r0 \\\\ s0 \\end{bmatrix}$$\n",
    "\n",
    "That is, \n",
    "\n",
    "- x1 = Mx0 where M is the migration matrix\n",
    "\n",
    "Equation above describes how the population changes from 2020 to 2021. If the migration percentages remain constant, then the change from 2021 to 2022 is given by and similarly for 2022 to 2023 and subsequent years. In general,\n",
    "\n",
    "- Xk+1 = Mxk for k = 0, 1, 2, ...\n",
    "\n",
    "The sequence of vectors {x0, x1, x2, ... } describes the population of the city/suburban region over a period of years."
   ]
  },
  {
   "cell_type": "markdown",
   "metadata": {},
   "source": [
    "Example: Suppose the initial population of the city is 600,000 and the initial population of the suburbs is 400,000. What is the population of the city and suburbs after 2 years?\n",
    "\n",
    "Solution: The initial population vector is x0 = (600,000, 400,000). The migration matrix is M = $\\begin{bmatrix} .95 & .03 \\\\ .05 & .97 \\end{bmatrix}$.\n",
    "\n",
    "- The population vector after 1 year is x1 = Mx0 = (582,000, 418,000).\n",
    "- The population vector after 2 years is x2 = Mx1 = (565,440, 434,560)."
   ]
  },
  {
   "cell_type": "markdown",
   "metadata": {},
   "source": [
    "Now, suppose that we generalize the migration matrix M to include migration data between n regions. Then the M matrix would be an n × n matrix.\n",
    "\n",
    "The task is to find the population of each region after k years. The population of each region in the initial year is given by the vector x0. The population of each region after k years is given by the vector xk."
   ]
  },
  {
   "cell_type": "code",
   "execution_count": null,
   "metadata": {},
   "outputs": [],
   "source": [
    "def estimate_population(k, A, x0):\n",
    "    \"\"\"Estimate the population of each region after k years.\n",
    "    Args:\n",
    "        k (int): number of years\n",
    "        A (ndarray): standard matrix\n",
    "        x0 (ndarray): initial population vector\n",
    "\n",
    "    Returns:\n",
    "        x (ndarray): population vector after k years\n",
    "    \"\"\""
   ]
  },
  {
   "cell_type": "markdown",
   "metadata": {},
   "source": [
    "## 2. Row reduction algorithm"
   ]
  },
  {
   "cell_type": "code",
   "execution_count": 1,
   "metadata": {},
   "outputs": [],
   "source": [
    "# Import necessary libraries\n",
    "# enter your code here\n",
    "import numpy as np"
   ]
  },
  {
   "cell_type": "markdown",
   "metadata": {},
   "source": [
    "### 2.1. Basic operations"
   ]
  },
  {
   "cell_type": "markdown",
   "metadata": {},
   "source": [
    "#### 2.1.1. Swap two rows"
   ]
  },
  {
   "cell_type": "code",
   "execution_count": null,
   "metadata": {},
   "outputs": [],
   "source": [
    "def swap_rows(A, i, j):\n",
    "    \"\"\"Swap rows i and j of matrix A.\"\"\""
   ]
  },
  {
   "cell_type": "markdown",
   "metadata": {},
   "source": [
    "#### 2.1.2. Multiply a row by a nonzero constant"
   ]
  },
  {
   "cell_type": "code",
   "execution_count": null,
   "metadata": {},
   "outputs": [],
   "source": [
    "def mult_row(A, i, a):\n",
    "    \"\"\"Multiply row i of matrix A by scalar a.\"\"\""
   ]
  },
  {
   "cell_type": "markdown",
   "metadata": {},
   "source": [
    "#### 2.1.3. Add a multiple of one row to another row"
   ]
  },
  {
   "cell_type": "code",
   "execution_count": null,
   "metadata": {},
   "outputs": [],
   "source": [
    "def add_rows(A, i, j, a):\n",
    "    \"\"\"Add a times row j to row i of matrix A.\"\"\""
   ]
  },
  {
   "cell_type": "markdown",
   "metadata": {},
   "source": [
    "### 2.2. Row reduction algorithm implementation"
   ]
  },
  {
   "cell_type": "markdown",
   "metadata": {},
   "source": [
    "#### 2.2.1 Convert to reduced row echelon form"
   ]
  },
  {
   "cell_type": "code",
   "execution_count": null,
   "metadata": {},
   "outputs": [],
   "source": [
    "def to_rref(A):\n",
    "    \"\"\"Convert matrix A to reduced row echelon form.\"\"\""
   ]
  },
  {
   "cell_type": "markdown",
   "metadata": {},
   "source": [
    "#### 2.2.2. Solve linear equations"
   ]
  },
  {
   "cell_type": "code",
   "execution_count": null,
   "metadata": {},
   "outputs": [],
   "source": [
    "def solve(A, b):\n",
    "    \"\"\"Solve Ax = b for x.\"\"\""
   ]
  },
  {
   "cell_type": "markdown",
   "metadata": {},
   "source": [
    "### 2.3. Application: Diet planning problem"
   ]
  },
  {
   "attachments": {},
   "cell_type": "markdown",
   "metadata": {},
   "source": [
    "A proper diet is a diet consisting of the required amount of different nutrients.To achieve the desired amounts and proportions of nutrients, We have to incorporate a large variety of foodstuffs in the diet. Each foodstuff supplied several of the required ingredients, but not in the correct proportions. For instance, nonfat milk was a major source of protein but contained too much calcium. So soy flour was used for part of the protein because soy flour contains little calcium. However, soy flour contains proportionally too much fat, so whey was added since it supplies less fat in relation to\n",
    "calcium. Unfortunately, whey contains too much carbohydrate . . .\n",
    "\n",
    "The following example illustrates the problem on a small scale. Listed in Table 1 are three of the ingredients in the diet, together with the amounts of certain nutrients supplied by 100 grams (g) of each ingredient.\n",
    "\n",
    "| Nutrient     | Nonfat milk | Soy flour | Whey | Needed |\n",
    "|--------------|-------------|-----------|------|--------|\n",
    "| Protein      | 36          | 51        | 13   |   33   |\n",
    "| Carbohydrate | 52          | 34        | 74   |   45   |\n",
    "| Fat          | 0           | 7         | 1.1  |    3   |"
   ]
  },
  {
   "attachments": {},
   "cell_type": "markdown",
   "metadata": {},
   "source": [
    "Let x1, x2, and x3, respectively, denote the number of units (100 g) of these food stuffs. One approach to the problem is to derive equations for each nutrient separately. For instance, the product\n",
    "\n",
    "*{x1 units of nonfat milk}.{protein per unit of nonfat milk}*\n",
    "\n",
    "gives the amount of protein supplied by x1 units of nonfat milk. To this amount, we would then add similar products for soy flour and whey and set the resulting sum equal to the amount of protein we need. Analogous calculations would have to be made for A more efficient method, and one that is conceptually simpler, is to consider a “nutrient vector” for each foodstuff and build just one vector equation. The amount of nutrients supplied by x1 units of nonfat milk is the scalar multiple:\n",
    "\n",
    "*{x1 units of nonfat milk (scalar)}.{protein per unit of nonfat milk (vector)} = x1.a1*\n",
    "\n",
    "where a1 is the first column in Table 1. Let a2 and a3 be the corresponding vectors for soy flour and whey, respectively, and let b be the vector that lists the total nutrients required (the last column of the table). Then x2a2 and x3a3 give the nutrients supplied by x2 units of soy flour and x3 units of whey, respectively. So the relevant equation is:\n",
    "\n",
    "$$ x_1a_1 + x_2a_2 + x_3a_3 = b $$\n",
    "\n",
    "Row reduction of the augmented matrix for the corresponding system of equations shows that:\n",
    "\n",
    "$$\\begin{bmatrix} 36 & 51 & 13 & 33 \\\\ 52 & 34 & 74 & 45 \\\\ 0 & 7 & 1.1 & 3 \\end{bmatrix}$$\n",
    "\n",
    "convert to row reduced form:\n",
    "\n",
    "$$\\begin{bmatrix} 1 & 0 & 0 & 0.277 \\\\ 0 & 1 & 0 & 0.392 \\\\ 0 & 0 & 1 & 0.233 \\end{bmatrix}$$\n",
    "\n",
    "\n",
    "To three significant digits, the diet requires .277 units of nonfat milk, .392 units of soy flour, and .233 units of whey in order to provide the desired amounts of protein,\n",
    "carbohydrate, and fat.\n",
    "$$ x_1= 0.277, x_2= 0.392, x_3=0.233 $$"
   ]
  },
  {
   "cell_type": "code",
   "execution_count": null,
   "metadata": {},
   "outputs": [],
   "source": [
    "# use the functions implemented in part 1 to solve diet planning\n",
    "def diet_planning(n, m, A, b):\n",
    "    \"\"\"calculate the necessary amount of each food item to achieve the required amount of nutrients.\n",
    "\n",
    "    Args:\n",
    "        n (int): number of different nutrients\n",
    "        m (int): number of different food item\n",
    "        A (ndarray n*m): Matrix of nutrients per unit of food\n",
    "        b (ndarray n*1): The required amount of each nutrient\n",
    "\n",
    "    Returns:\n",
    "        X (ndarray): The required number of units of each food\n",
    "    \"\"\""
   ]
  }
 ],
 "metadata": {
  "kernelspec": {
   "display_name": "Python 3.10.8 ('store')",
   "language": "python",
   "name": "python3"
  },
  "language_info": {
   "codemirror_mode": {
    "name": "ipython",
    "version": 3
   },
   "file_extension": ".py",
   "mimetype": "text/x-python",
   "name": "python",
   "nbconvert_exporter": "python",
   "pygments_lexer": "ipython3",
   "version": "3.10.8"
  },
  "orig_nbformat": 4,
  "vscode": {
   "interpreter": {
    "hash": "3c8d7962229153ee1cc94942b4a4614675a4783bcfad832b920ced45d8e3e089"
   }
  }
 },
 "nbformat": 4,
 "nbformat_minor": 2
}
