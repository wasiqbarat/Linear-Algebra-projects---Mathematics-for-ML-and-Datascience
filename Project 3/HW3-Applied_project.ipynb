{
 "cells": [
  {
   "attachments": {},
   "cell_type": "markdown",
   "metadata": {},
   "source": [
    "# Linear Algebra Project 3:\n",
    "## Error-Detecting and Error-Correcting Codes \n",
    "\n",
    "In this project, a method for detecting and correcting errors made in the transmission of encoded messages is constructed. It will turn out that abstract vector spaces and the concepts of null space, rank, and dimension are needed for this construction"
   ]
  },
  {
   "cell_type": "markdown",
   "metadata": {},
   "source": [
    "Please fill in the following information:\n",
    "\n",
    "- Student: [Your name]\n",
    "- Student ID: [Your student ID]"
   ]
  },
  {
   "attachments": {},
   "cell_type": "markdown",
   "metadata": {},
   "source": [
    "# Note\n",
    " - The following cells are only for your reference. Feel free to add more cells if you need to\n",
    " - It is highly recommended to divide the project into several parts and implement in different cells"
   ]
  },
  {
   "cell_type": "code",
   "execution_count": null,
   "metadata": {},
   "outputs": [],
   "source": [
    "def encode(x):\n",
    "    \"\"\"\n",
    "    encode input massage x using hamming(7, 4)\n",
    "    x: np.array(4, 1)\n",
    "    retrun: np.array(7, 1)\n",
    "    \"\"\"\n",
    "    retrun None"
   ]
  },
  {
   "cell_type": "code",
   "execution_count": null,
   "metadata": {},
   "outputs": [],
   "source": [
    "def error_detection(x):\n",
    "    \"\"\"check if input message has error\n",
    "    x: np.array(7, 1)\n",
    "    return: True or False (True if x has error)\n",
    "    \"\"\"\n",
    "    retrun False"
   ]
  },
  {
   "cell_type": "code",
   "execution_count": null,
   "metadata": {},
   "outputs": [],
   "source": [
    "def error_correction(x):\n",
    "    \"\"\"detect error bit and corret that bit\n",
    "    x: np.array(7, 1)\n",
    "    return: correct message (np.array(4, 1))\n",
    "    \"\"\"\n",
    "    retrun None"
   ]
  }
 ],
 "metadata": {
  "kernelspec": {
   "display_name": "Python 3.10.8 ('store')",
   "language": "python",
   "name": "python3"
  },
  "language_info": {
   "codemirror_mode": {
    "name": "ipython",
    "version": 3
   },
   "file_extension": ".py",
   "mimetype": "text/x-python",
   "name": "python",
   "nbconvert_exporter": "python",
   "pygments_lexer": "ipython3",
   "version": "3.10.8"
  },
  "orig_nbformat": 4,
  "vscode": {
   "interpreter": {
    "hash": "3c8d7962229153ee1cc94942b4a4614675a4783bcfad832b920ced45d8e3e089"
   }
  }
 },
 "nbformat": 4,
 "nbformat_minor": 2
}
